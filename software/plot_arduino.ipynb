{
 "cells": [
  {
   "cell_type": "code",
   "id": "f48e16c9",
   "metadata": {
    "ExecuteTime": {
     "end_time": "2025-07-18T15:57:14.880114Z",
     "start_time": "2025-07-18T15:57:13.089444Z"
    }
   },
   "source": [
    "!pip install pyserial matplotlib"
   ],
   "outputs": [
    {
     "name": "stdout",
     "output_type": "stream",
     "text": [
      "Requirement already satisfied: pyserial in c:\\users\\angel\\appdata\\local\\programs\\python\\python313\\lib\\site-packages (3.5)\n",
      "Requirement already satisfied: matplotlib in c:\\users\\angel\\appdata\\local\\programs\\python\\python313\\lib\\site-packages (3.10.3)\n",
      "Requirement already satisfied: contourpy>=1.0.1 in c:\\users\\angel\\appdata\\local\\programs\\python\\python313\\lib\\site-packages (from matplotlib) (1.3.2)\n",
      "Requirement already satisfied: cycler>=0.10 in c:\\users\\angel\\appdata\\local\\programs\\python\\python313\\lib\\site-packages (from matplotlib) (0.12.1)\n",
      "Requirement already satisfied: fonttools>=4.22.0 in c:\\users\\angel\\appdata\\local\\programs\\python\\python313\\lib\\site-packages (from matplotlib) (4.59.0)\n",
      "Requirement already satisfied: kiwisolver>=1.3.1 in c:\\users\\angel\\appdata\\local\\programs\\python\\python313\\lib\\site-packages (from matplotlib) (1.4.8)\n",
      "Requirement already satisfied: numpy>=1.23 in c:\\users\\angel\\appdata\\local\\programs\\python\\python313\\lib\\site-packages (from matplotlib) (2.2.6)\n",
      "Requirement already satisfied: packaging>=20.0 in c:\\users\\angel\\appdata\\local\\programs\\python\\python313\\lib\\site-packages (from matplotlib) (25.0)\n",
      "Requirement already satisfied: pillow>=8 in c:\\users\\angel\\appdata\\local\\programs\\python\\python313\\lib\\site-packages (from matplotlib) (11.3.0)\n",
      "Requirement already satisfied: pyparsing>=2.3.1 in c:\\users\\angel\\appdata\\local\\programs\\python\\python313\\lib\\site-packages (from matplotlib) (3.2.3)\n",
      "Requirement already satisfied: python-dateutil>=2.7 in c:\\users\\angel\\appdata\\local\\programs\\python\\python313\\lib\\site-packages (from matplotlib) (2.9.0.post0)\n",
      "Requirement already satisfied: six>=1.5 in c:\\users\\angel\\appdata\\local\\programs\\python\\python313\\lib\\site-packages (from python-dateutil>=2.7->matplotlib) (1.17.0)\n"
     ]
    },
    {
     "name": "stderr",
     "output_type": "stream",
     "text": [
      "\n",
      "[notice] A new release of pip is available: 24.3.1 -> 25.1.1\n",
      "[notice] To update, run: python.exe -m pip install --upgrade pip\n"
     ]
    }
   ],
   "execution_count": 1
  },
  {
   "cell_type": "code",
   "id": "e00750ca",
   "metadata": {
    "ExecuteTime": {
     "end_time": "2025-07-18T15:59:06.205686Z",
     "start_time": "2025-07-18T15:59:05.661120Z"
    }
   },
   "source": [
    "import serial\n",
    "import threading\n",
    "import time\n",
    "import matplotlib.pyplot as plt\n",
    "import matplotlib.animation as animation\n",
    "from collections import deque"
   ],
   "outputs": [],
   "execution_count": 2
  },
  {
   "cell_type": "code",
   "id": "680685b3",
   "metadata": {
    "ExecuteTime": {
     "end_time": "2025-07-18T16:01:11.765633Z",
     "start_time": "2025-07-18T16:01:11.100776Z"
    }
   },
   "source": [
    "# CONFIGURA AQUÍ el puerto y la velocidad (= Serial.begin)\n",
    "SERIAL_PORT = 'COM11'    # o '/dev/ttyUSB0' en Linux/Mac\n",
    "BAUD_RATE   = 115200\n",
    "\n",
    "ser = serial.Serial(SERIAL_PORT, BAUD_RATE, timeout=1)\n",
    "    \n",
    "line = ser.readline().decode(errors='ignore').strip()\n",
    "parts = line.replace('V','').replace('Voltaje:','').replace('pH:','').split()\n",
    "\n",
    "ser.close()\n",
    "\n",
    "print(f\"{parts}\")"
   ],
   "outputs": [
    {
     "name": "stdout",
     "output_type": "stream",
     "text": [
      "['oltaje:', '0.235', '|', '63.613']\n"
     ]
    }
   ],
   "execution_count": 4
  },
  {
   "cell_type": "code",
   "id": "febab911",
   "metadata": {
    "ExecuteTime": {
     "end_time": "2025-07-18T16:03:34.485755Z",
     "start_time": "2025-07-18T16:01:22.209702Z"
    }
   },
   "source": [
    "global ser\n",
    "\n",
    "# Cuántos puntos guardamos en pantalla\n",
    "MAX_POINTS = 100\n",
    "\n",
    "# Colas para datos\n",
    "times = deque(maxlen=MAX_POINTS)\n",
    "voltajes = deque(maxlen=MAX_POINTS)\n",
    "phs = deque(maxlen=MAX_POINTS)\n",
    "\n",
    "# Marca de tiempo inicial\n",
    "start_time = time.time()\n",
    "\n",
    "def serial_reader():\n",
    "    \"\"\"Lee líneas del serial, parsea voltaje y pH.\"\"\"\n",
    "    ser = serial.Serial(SERIAL_PORT, BAUD_RATE, timeout=1)\n",
    "    while True:\n",
    "        line = ser.readline().decode(errors='ignore').strip()\n",
    "        # Esperamos líneas como: \"Voltaje: 2.345 V    pH: 6.78\"\n",
    "        if not line:\n",
    "            continue\n",
    "        try:\n",
    "            # Separar por tabs o espacios\n",
    "            parts = line.replace('V','').replace('Voltaje:','').replace('pH:','').split()\n",
    "            v = float(parts[1])\n",
    "            p = float(parts[3])\n",
    "        except Exception:\n",
    "            continue\n",
    "        t = time.time() - start_time\n",
    "        times.append(t)\n",
    "        voltajes.append(v)\n",
    "        phs.append(p)\n",
    "\n",
    "        print(voltajes)\n",
    "\n",
    "try:\n",
    "    # Arrancamos el hilo de lectura serie\n",
    "    thread = threading.Thread(target=serial_reader, daemon=True)\n",
    "    thread.start()\n",
    "\n",
    "    # Configuración de la figura\n",
    "    fig, (ax1, ax2) = plt.subplots(2, 1, figsize=(8, 6), sharex=True)\n",
    "    ax1.set_ylabel(\"Voltaje (V)\")\n",
    "    ax2.set_ylabel(\"pH\")\n",
    "    ax2.set_xlabel(\"Tiempo (s)\")\n",
    "\n",
    "    line1, = ax1.plot([], [], lw=2)\n",
    "    line2, = ax2.plot([], [], lw=2)\n",
    "\n",
    "    def init():\n",
    "        ax1.set_xlim(0, MAX_POINTS * 0.5)\n",
    "        ax1.set_ylim(0,  VREF := 3.3)     # Ajusta si tu VREF cambia\n",
    "        ax2.set_ylim(0, 14)               # Rango típico de pH\n",
    "        return line1, line2\n",
    "\n",
    "    def update(frame):\n",
    "        if times:\n",
    "            # Ajusta eje X dinámico\n",
    "            ax1.set_xlim(times[0], times[-1])\n",
    "            ax2.set_xlim(times[0], times[-1])\n",
    "            # Actualiza datos\n",
    "            line1.set_data(times, voltajes)\n",
    "            line2.set_data(times, phs)\n",
    "        return line1, line2\n",
    "\n",
    "    ani = animation.FuncAnimation(fig, update, init_func=init, blit=True, interval=200)\n",
    "\n",
    "    plt.tight_layout()\n",
    "    plt.show()\n",
    "    # Mantener el hilo de lectura activo\n",
    "    while thread.is_alive():\n",
    "        time.sleep(1)\n",
    "    print(\"Programa finalizado.\")\n",
    "except KeyboardInterrupt:\n",
    "    print(\"Interrupción del usuario. Cerrando...\")\n",
    "    ser.close()"
   ],
   "outputs": [
    {
     "name": "stdout",
     "output_type": "stream",
     "text": [
      "deque([0.116], maxlen=100)\n"
     ]
    },
    {
     "name": "stderr",
     "output_type": "stream",
     "text": [
      "C:\\Users\\angel\\AppData\\Local\\Temp\\ipykernel_9500\\3736327941.py:66: UserWarning: frames=None which we can infer the length of, did not pass an explicit *save_count* and passed cache_frame_data=True.  To avoid a possibly unbounded cache, frame data caching has been disabled. To suppress this warning either pass `cache_frame_data=False` or `save_count=MAX_FRAMES`.\n",
      "  ani = animation.FuncAnimation(fig, update, init_func=init, blit=True, interval=200)\n"
     ]
    },
    {
     "data": {
      "text/plain": [
       "<Figure size 800x600 with 2 Axes>"
      ],
      "image/png": "[encoded data removed]"
     },
     "metadata": {},
     "output_type": "display_data"
    },
    {
     "name": "stdout",
     "output_type": "stream",
     "text": [
      "deque([0.116, 0.106], maxlen=100)\n",
      "deque([0.116, 0.106, 0.09], maxlen=100)\n",
      "deque([0.116, 0.106, 0.09, 0.1], maxlen=100)\n",
      "deque([0.116, 0.106, 0.09, 0.1, 0.135], maxlen=100)\n",
      "deque([0.116, 0.106, 0.09, 0.1, 0.135, 0.168], maxlen=100)\n",
      "deque([0.116, 0.106, 0.09, 0.1, 0.135, 0.168, 0.203], maxlen=100)\n",
      "deque([0.116, 0.106, 0.09, 0.1, 0.135, 0.168, 0.203, 0.216], maxlen=100)\n",
      "deque([0.116, 0.106, 0.09, 0.1, 0.135, 0.168, 0.203, 0.216, 0.232], maxlen=100)\n",
      "deque([0.116, 0.106, 0.09, 0.1, 0.135, 0.168, 0.203, 0.216, 0.232, 0.232], maxlen=100)\n",
      "deque([0.116, 0.106, 0.09, 0.1, 0.135, 0.168, 0.203, 0.216, 0.232, 0.232, 0.232], maxlen=100)\n",
      "deque([0.116, 0.106, 0.09, 0.1, 0.135, 0.168, 0.203, 0.216, 0.232, 0.232, 0.232, 0.226], maxlen=100)\n",
      "deque([0.116, 0.106, 0.09, 0.1, 0.135, 0.168, 0.203, 0.216, 0.232, 0.232, 0.232, 0.226, 0.216], maxlen=100)\n",
      "deque([0.116, 0.106, 0.09, 0.1, 0.135, 0.168, 0.203, 0.216, 0.232, 0.232, 0.232, 0.226, 0.216, 0.216], maxlen=100)\n",
      "deque([0.116, 0.106, 0.09, 0.1, 0.135, 0.168, 0.203, 0.216, 0.232, 0.232, 0.232, 0.226, 0.216, 0.216, 0.2], maxlen=100)\n",
      "deque([0.116, 0.106, 0.09, 0.1, 0.135, 0.168, 0.203, 0.216, 0.232, 0.232, 0.232, 0.226, 0.216, 0.216, 0.2, 0.171], maxlen=100)\n",
      "deque([0.116, 0.106, 0.09, 0.1, 0.135, 0.168, 0.203, 0.216, 0.232, 0.232, 0.232, 0.226, 0.216, 0.216, 0.2, 0.171, 0.152], maxlen=100)\n",
      "deque([0.116, 0.106, 0.09, 0.1, 0.135, 0.168, 0.203, 0.216, 0.232, 0.232, 0.232, 0.226, 0.216, 0.216, 0.2, 0.171, 0.152, 0.129], maxlen=100)\n",
      "deque([0.116, 0.106, 0.09, 0.1, 0.135, 0.168, 0.203, 0.216, 0.232, 0.232, 0.232, 0.226, 0.216, 0.216, 0.2, 0.171, 0.152, 0.129, 0.113], maxlen=100)\n",
      "deque([0.116, 0.106, 0.09, 0.1, 0.135, 0.168, 0.203, 0.216, 0.232, 0.232, 0.232, 0.226, 0.216, 0.216, 0.2, 0.171, 0.152, 0.129, 0.113, 0.106], maxlen=100)\n",
      "deque([0.116, 0.106, 0.09, 0.1, 0.135, 0.168, 0.203, 0.216, 0.232, 0.232, 0.232, 0.226, 0.216, 0.216, 0.2, 0.171, 0.152, 0.129, 0.113, 0.106, 0.094], maxlen=100)\n",
      "deque([0.116, 0.106, 0.09, 0.1, 0.135, 0.168, 0.203, 0.216, 0.232, 0.232, 0.232, 0.226, 0.216, 0.216, 0.2, 0.171, 0.152, 0.129, 0.113, 0.106, 0.094, 0.1], maxlen=100)\n",
      "deque([0.116, 0.106, 0.09, 0.1, 0.135, 0.168, 0.203, 0.216, 0.232, 0.232, 0.232, 0.226, 0.216, 0.216, 0.2, 0.171, 0.152, 0.129, 0.113, 0.106, 0.094, 0.1, 0.123], maxlen=100)\n",
      "deque([0.116, 0.106, 0.09, 0.1, 0.135, 0.168, 0.203, 0.216, 0.232, 0.232, 0.232, 0.226, 0.216, 0.216, 0.2, 0.171, 0.152, 0.129, 0.113, 0.106, 0.094, 0.1, 0.123, 0.165], maxlen=100)\n",
      "deque([0.116, 0.106, 0.09, 0.1, 0.135, 0.168, 0.203, 0.216, 0.232, 0.232, 0.232, 0.226, 0.216, 0.216, 0.2, 0.171, 0.152, 0.129, 0.113, 0.106, 0.094, 0.1, 0.123, 0.165, 0.206], maxlen=100)\n",
      "deque([0.116, 0.106, 0.09, 0.1, 0.135, 0.168, 0.203, 0.216, 0.232, 0.232, 0.232, 0.226, 0.216, 0.216, 0.2, 0.171, 0.152, 0.129, 0.113, 0.106, 0.094, 0.1, 0.123, 0.165, 0.206, 0.213], maxlen=100)\n",
      "deque([0.116, 0.106, 0.09, 0.1, 0.135, 0.168, 0.203, 0.216, 0.232, 0.232, 0.232, 0.226, 0.216, 0.216, 0.2, 0.171, 0.152, 0.129, 0.113, 0.106, 0.094, 0.1, 0.123, 0.165, 0.206, 0.213, 0.213], maxlen=100)\n",
      "deque([0.116, 0.106, 0.09, 0.1, 0.135, 0.168, 0.203, 0.216, 0.232, 0.232, 0.232, 0.226, 0.216, 0.216, 0.2, 0.171, 0.152, 0.129, 0.113, 0.106, 0.094, 0.1, 0.123, 0.165, 0.206, 0.213, 0.213, 0.226], maxlen=100)\n",
      "deque([0.116, 0.106, 0.09, 0.1, 0.135, 0.168, 0.203, 0.216, 0.232, 0.232, 0.232, 0.226, 0.216, 0.216, 0.2, 0.171, 0.152, 0.129, 0.113, 0.106, 0.094, 0.1, 0.123, 0.165, 0.206, 0.213, 0.213, 0.226, 0.226], maxlen=100)\n",
      "deque([0.116, 0.106, 0.09, 0.1, 0.135, 0.168, 0.203, 0.216, 0.232, 0.232, 0.232, 0.226, 0.216, 0.216, 0.2, 0.171, 0.152, 0.129, 0.113, 0.106, 0.094, 0.1, 0.123, 0.165, 0.206, 0.213, 0.213, 0.226, 0.226, 0.229], maxlen=100)\n",
      "deque([0.116, 0.106, 0.09, 0.1, 0.135, 0.168, 0.203, 0.216, 0.232, 0.232, 0.232, 0.226, 0.216, 0.216, 0.2, 0.171, 0.152, 0.129, 0.113, 0.106, 0.094, 0.1, 0.123, 0.165, 0.206, 0.213, 0.213, 0.226, 0.226, 0.229, 0.232], maxlen=100)\n",
      "deque([0.116, 0.106, 0.09, 0.1, 0.135, 0.168, 0.203, 0.216, 0.232, 0.232, 0.232, 0.226, 0.216, 0.216, 0.2, 0.171, 0.152, 0.129, 0.113, 0.106, 0.094, 0.1, 0.123, 0.165, 0.206, 0.213, 0.213, 0.226, 0.226, 0.229, 0.232, 0.213], maxlen=100)\n",
      "deque([0.116, 0.106, 0.09, 0.1, 0.135, 0.168, 0.203, 0.216, 0.232, 0.232, 0.232, 0.226, 0.216, 0.216, 0.2, 0.171, 0.152, 0.129, 0.113, 0.106, 0.094, 0.1, 0.123, 0.165, 0.206, 0.213, 0.213, 0.226, 0.226, 0.229, 0.232, 0.213, 0.177], maxlen=100)\n",
      "deque([0.116, 0.106, 0.09, 0.1, 0.135, 0.168, 0.203, 0.216, 0.232, 0.232, 0.232, 0.226, 0.216, 0.216, 0.2, 0.171, 0.152, 0.129, 0.113, 0.106, 0.094, 0.1, 0.123, 0.165, 0.206, 0.213, 0.213, 0.226, 0.226, 0.229, 0.232, 0.213, 0.177, 0.139], maxlen=100)\n",
      "deque([0.116, 0.106, 0.09, 0.1, 0.135, 0.168, 0.203, 0.216, 0.232, 0.232, 0.232, 0.226, 0.216, 0.216, 0.2, 0.171, 0.152, 0.129, 0.113, 0.106, 0.094, 0.1, 0.123, 0.165, 0.206, 0.213, 0.213, 0.226, 0.226, 0.229, 0.232, 0.213, 0.177, 0.139, 0.116], maxlen=100)\n",
      "deque([0.116, 0.106, 0.09, 0.1, 0.135, 0.168, 0.203, 0.216, 0.232, 0.232, 0.232, 0.226, 0.216, 0.216, 0.2, 0.171, 0.152, 0.129, 0.113, 0.106, 0.094, 0.1, 0.123, 0.165, 0.206, 0.213, 0.213, 0.226, 0.226, 0.229, 0.232, 0.213, 0.177, 0.139, 0.116, 0.11], maxlen=100)\n",
      "deque([0.116, 0.106, 0.09, 0.1, 0.135, 0.168, 0.203, 0.216, 0.232, 0.232, 0.232, 0.226, 0.216, 0.216, 0.2, 0.171, 0.152, 0.129, 0.113, 0.106, 0.094, 0.1, 0.123, 0.165, 0.206, 0.213, 0.213, 0.226, 0.226, 0.229, 0.232, 0.213, 0.177, 0.139, 0.116, 0.11, 0.119], maxlen=100)\n",
      "deque([0.116, 0.106, 0.09, 0.1, 0.135, 0.168, 0.203, 0.216, 0.232, 0.232, 0.232, 0.226, 0.216, 0.216, 0.2, 0.171, 0.152, 0.129, 0.113, 0.106, 0.094, 0.1, 0.123, 0.165, 0.206, 0.213, 0.213, 0.226, 0.226, 0.229, 0.232, 0.213, 0.177, 0.139, 0.116, 0.11, 0.119, 0.113], maxlen=100)\n",
      "deque([0.116, 0.106, 0.09, 0.1, 0.135, 0.168, 0.203, 0.216, 0.232, 0.232, 0.232, 0.226, 0.216, 0.216, 0.2, 0.171, 0.152, 0.129, 0.113, 0.106, 0.094, 0.1, 0.123, 0.165, 0.206, 0.213, 0.213, 0.226, 0.226, 0.229, 0.232, 0.213, 0.177, 0.139, 0.116, 0.11, 0.119, 0.113, 0.106], maxlen=100)\n",
      "deque([0.116, 0.106, 0.09, 0.1, 0.135, 0.168, 0.203, 0.216, 0.232, 0.232, 0.232, 0.226, 0.216, 0.216, 0.2, 0.171, 0.152, 0.129, 0.113, 0.106, 0.094, 0.1, 0.123, 0.165, 0.206, 0.213, 0.213, 0.226, 0.226, 0.229, 0.232, 0.213, 0.177, 0.139, 0.116, 0.11, 0.119, 0.113, 0.106, 0.1], maxlen=100)\n",
      "deque([0.116, 0.106, 0.09, 0.1, 0.135, 0.168, 0.203, 0.216, 0.232, 0.232, 0.232, 0.226, 0.216, 0.216, 0.2, 0.171, 0.152, 0.129, 0.113, 0.106, 0.094, 0.1, 0.123, 0.165, 0.206, 0.213, 0.213, 0.226, 0.226, 0.229, 0.232, 0.213, 0.177, 0.139, 0.116, 0.11, 0.119, 0.113, 0.106, 0.1, 0.094], maxlen=100)\n",
      "deque([0.116, 0.106, 0.09, 0.1, 0.135, 0.168, 0.203, 0.216, 0.232, 0.232, 0.232, 0.226, 0.216, 0.216, 0.2, 0.171, 0.152, 0.129, 0.113, 0.106, 0.094, 0.1, 0.123, 0.165, 0.206, 0.213, 0.213, 0.226, 0.226, 0.229, 0.232, 0.213, 0.177, 0.139, 0.116, 0.11, 0.119, 0.113, 0.106, 0.1, 0.094, 0.11], maxlen=100)\n",
      "deque([0.116, 0.106, 0.09, 0.1, 0.135, 0.168, 0.203, 0.216, 0.232, 0.232, 0.232, 0.226, 0.216, 0.216, 0.2, 0.171, 0.152, 0.129, 0.113, 0.106, 0.094, 0.1, 0.123, 0.165, 0.206, 0.213, 0.213, 0.226, 0.226, 0.229, 0.232, 0.213, 0.177, 0.139, 0.116, 0.11, 0.119, 0.113, 0.106, 0.1, 0.094, 0.11, 0.116], maxlen=100)\n",
      "deque([0.116, 0.106, 0.09, 0.1, 0.135, 0.168, 0.203, 0.216, 0.232, 0.232, 0.232, 0.226, 0.216, 0.216, 0.2, 0.171, 0.152, 0.129, 0.113, 0.106, 0.094, 0.1, 0.123, 0.165, 0.206, 0.213, 0.213, 0.226, 0.226, 0.229, 0.232, 0.213, 0.177, 0.139, 0.116, 0.11, 0.119, 0.113, 0.106, 0.1, 0.094, 0.11, 0.116, 0.11], maxlen=100)\n",
      "deque([0.116, 0.106, 0.09, 0.1, 0.135, 0.168, 0.203, 0.216, 0.232, 0.232, 0.232, 0.226, 0.216, 0.216, 0.2, 0.171, 0.152, 0.129, 0.113, 0.106, 0.094, 0.1, 0.123, 0.165, 0.206, 0.213, 0.213, 0.226, 0.226, 0.229, 0.232, 0.213, 0.177, 0.139, 0.116, 0.11, 0.119, 0.113, 0.106, 0.1, 0.094, 0.11, 0.116, 0.11, 0.1], maxlen=100)\n",
      "deque([0.116, 0.106, 0.09, 0.1, 0.135, 0.168, 0.203, 0.216, 0.232, 0.232, 0.232, 0.226, 0.216, 0.216, 0.2, 0.171, 0.152, 0.129, 0.113, 0.106, 0.094, 0.1, 0.123, 0.165, 0.206, 0.213, 0.213, 0.226, 0.226, 0.229, 0.232, 0.213, 0.177, 0.139, 0.116, 0.11, 0.119, 0.113, 0.106, 0.1, 0.094, 0.11, 0.116, 0.11, 0.1, 0.1], maxlen=100)\n",
      "deque([0.116, 0.106, 0.09, 0.1, 0.135, 0.168, 0.203, 0.216, 0.232, 0.232, 0.232, 0.226, 0.216, 0.216, 0.2, 0.171, 0.152, 0.129, 0.113, 0.106, 0.094, 0.1, 0.123, 0.165, 0.206, 0.213, 0.213, 0.226, 0.226, 0.229, 0.232, 0.213, 0.177, 0.139, 0.116, 0.11, 0.119, 0.113, 0.106, 0.1, 0.094, 0.11, 0.116, 0.11, 0.1, 0.1, 0.094], maxlen=100)\n",
      "deque([0.116, 0.106, 0.09, 0.1, 0.135, 0.168, 0.203, 0.216, 0.232, 0.232, 0.232, 0.226, 0.216, 0.216, 0.2, 0.171, 0.152, 0.129, 0.113, 0.106, 0.094, 0.1, 0.123, 0.165, 0.206, 0.213, 0.213, 0.226, 0.226, 0.229, 0.232, 0.213, 0.177, 0.139, 0.116, 0.11, 0.119, 0.113, 0.106, 0.1, 0.094, 0.11, 0.116, 0.11, 0.1, 0.1, 0.094, 0.11], maxlen=100)\n",
      "deque([0.116, 0.106, 0.09, 0.1, 0.135, 0.168, 0.203, 0.216, 0.232, 0.232, 0.232, 0.226, 0.216, 0.216, 0.2, 0.171, 0.152, 0.129, 0.113, 0.106, 0.094, 0.1, 0.123, 0.165, 0.206, 0.213, 0.213, 0.226, 0.226, 0.229, 0.232, 0.213, 0.177, 0.139, 0.116, 0.11, 0.119, 0.113, 0.106, 0.1, 0.094, 0.11, 0.116, 0.11, 0.1, 0.1, 0.094, 0.11, 0.11], maxlen=100)\n",
      "deque([0.116, 0.106, 0.09, 0.1, 0.135, 0.168, 0.203, 0.216, 0.232, 0.232, 0.232, 0.226, 0.216, 0.216, 0.2, 0.171, 0.152, 0.129, 0.113, 0.106, 0.094, 0.1, 0.123, 0.165, 0.206, 0.213, 0.213, 0.226, 0.226, 0.229, 0.232, 0.213, 0.177, 0.139, 0.116, 0.11, 0.119, 0.113, 0.106, 0.1, 0.094, 0.11, 0.116, 0.11, 0.1, 0.1, 0.094, 0.11, 0.11, 0.123], maxlen=100)\n",
      "deque([0.116, 0.106, 0.09, 0.1, 0.135, 0.168, 0.203, 0.216, 0.232, 0.232, 0.232, 0.226, 0.216, 0.216, 0.2, 0.171, 0.152, 0.129, 0.113, 0.106, 0.094, 0.1, 0.123, 0.165, 0.206, 0.213, 0.213, 0.226, 0.226, 0.229, 0.232, 0.213, 0.177, 0.139, 0.116, 0.11, 0.119, 0.113, 0.106, 0.1, 0.094, 0.11, 0.116, 0.11, 0.1, 0.1, 0.094, 0.11, 0.11, 0.123, 0.142], maxlen=100)\n",
      "deque([0.116, 0.106, 0.09, 0.1, 0.135, 0.168, 0.203, 0.216, 0.232, 0.232, 0.232, 0.226, 0.216, 0.216, 0.2, 0.171, 0.152, 0.129, 0.113, 0.106, 0.094, 0.1, 0.123, 0.165, 0.206, 0.213, 0.213, 0.226, 0.226, 0.229, 0.232, 0.213, 0.177, 0.139, 0.116, 0.11, 0.119, 0.113, 0.106, 0.1, 0.094, 0.11, 0.116, 0.11, 0.1, 0.1, 0.094, 0.11, 0.11, 0.123, 0.142, 0.165], maxlen=100)\n",
      "deque([0.116, 0.106, 0.09, 0.1, 0.135, 0.168, 0.203, 0.216, 0.232, 0.232, 0.232, 0.226, 0.216, 0.216, 0.2, 0.171, 0.152, 0.129, 0.113, 0.106, 0.094, 0.1, 0.123, 0.165, 0.206, 0.213, 0.213, 0.226, 0.226, 0.229, 0.232, 0.213, 0.177, 0.139, 0.116, 0.11, 0.119, 0.113, 0.106, 0.1, 0.094, 0.11, 0.116, 0.11, 0.1, 0.1, 0.094, 0.11, 0.11, 0.123, 0.142, 0.165, 0.197], maxlen=100)\n",
      "deque([0.116, 0.106, 0.09, 0.1, 0.135, 0.168, 0.203, 0.216, 0.232, 0.232, 0.232, 0.226, 0.216, 0.216, 0.2, 0.171, 0.152, 0.129, 0.113, 0.106, 0.094, 0.1, 0.123, 0.165, 0.206, 0.213, 0.213, 0.226, 0.226, 0.229, 0.232, 0.213, 0.177, 0.139, 0.116, 0.11, 0.119, 0.113, 0.106, 0.1, 0.094, 0.11, 0.116, 0.11, 0.1, 0.1, 0.094, 0.11, 0.11, 0.123, 0.142, 0.165, 0.197, 0.216], maxlen=100)\n",
      "deque([0.116, 0.106, 0.09, 0.1, 0.135, 0.168, 0.203, 0.216, 0.232, 0.232, 0.232, 0.226, 0.216, 0.216, 0.2, 0.171, 0.152, 0.129, 0.113, 0.106, 0.094, 0.1, 0.123, 0.165, 0.206, 0.213, 0.213, 0.226, 0.226, 0.229, 0.232, 0.213, 0.177, 0.139, 0.116, 0.11, 0.119, 0.113, 0.106, 0.1, 0.094, 0.11, 0.116, 0.11, 0.1, 0.1, 0.094, 0.11, 0.11, 0.123, 0.142, 0.165, 0.197, 0.216, 0.213], maxlen=100)\n",
      "deque([0.116, 0.106, 0.09, 0.1, 0.135, 0.168, 0.203, 0.216, 0.232, 0.232, 0.232, 0.226, 0.216, 0.216, 0.2, 0.171, 0.152, 0.129, 0.113, 0.106, 0.094, 0.1, 0.123, 0.165, 0.206, 0.213, 0.213, 0.226, 0.226, 0.229, 0.232, 0.213, 0.177, 0.139, 0.116, 0.11, 0.119, 0.113, 0.106, 0.1, 0.094, 0.11, 0.116, 0.11, 0.1, 0.1, 0.094, 0.11, 0.11, 0.123, 0.142, 0.165, 0.197, 0.216, 0.213, 0.216], maxlen=100)\n",
      "deque([0.116, 0.106, 0.09, 0.1, 0.135, 0.168, 0.203, 0.216, 0.232, 0.232, 0.232, 0.226, 0.216, 0.216, 0.2, 0.171, 0.152, 0.129, 0.113, 0.106, 0.094, 0.1, 0.123, 0.165, 0.206, 0.213, 0.213, 0.226, 0.226, 0.229, 0.232, 0.213, 0.177, 0.139, 0.116, 0.11, 0.119, 0.113, 0.106, 0.1, 0.094, 0.11, 0.116, 0.11, 0.1, 0.1, 0.094, 0.11, 0.11, 0.123, 0.142, 0.165, 0.197, 0.216, 0.213, 0.216, 0.203], maxlen=100)\n",
      "deque([0.116, 0.106, 0.09, 0.1, 0.135, 0.168, 0.203, 0.216, 0.232, 0.232, 0.232, 0.226, 0.216, 0.216, 0.2, 0.171, 0.152, 0.129, 0.113, 0.106, 0.094, 0.1, 0.123, 0.165, 0.206, 0.213, 0.213, 0.226, 0.226, 0.229, 0.232, 0.213, 0.177, 0.139, 0.116, 0.11, 0.119, 0.113, 0.106, 0.1, 0.094, 0.11, 0.116, 0.11, 0.1, 0.1, 0.094, 0.11, 0.11, 0.123, 0.142, 0.165, 0.197, 0.216, 0.213, 0.216, 0.203, 0.194], maxlen=100)\n",
      "deque([0.116, 0.106, 0.09, 0.1, 0.135, 0.168, 0.203, 0.216, 0.232, 0.232, 0.232, 0.226, 0.216, 0.216, 0.2, 0.171, 0.152, 0.129, 0.113, 0.106, 0.094, 0.1, 0.123, 0.165, 0.206, 0.213, 0.213, 0.226, 0.226, 0.229, 0.232, 0.213, 0.177, 0.139, 0.116, 0.11, 0.119, 0.113, 0.106, 0.1, 0.094, 0.11, 0.116, 0.11, 0.1, 0.1, 0.094, 0.11, 0.11, 0.123, 0.142, 0.165, 0.197, 0.216, 0.213, 0.216, 0.203, 0.194, 0.171], maxlen=100)\n",
      "deque([0.116, 0.106, 0.09, 0.1, 0.135, 0.168, 0.203, 0.216, 0.232, 0.232, 0.232, 0.226, 0.216, 0.216, 0.2, 0.171, 0.152, 0.129, 0.113, 0.106, 0.094, 0.1, 0.123, 0.165, 0.206, 0.213, 0.213, 0.226, 0.226, 0.229, 0.232, 0.213, 0.177, 0.139, 0.116, 0.11, 0.119, 0.113, 0.106, 0.1, 0.094, 0.11, 0.116, 0.11, 0.1, 0.1, 0.094, 0.11, 0.11, 0.123, 0.142, 0.165, 0.197, 0.216, 0.213, 0.216, 0.203, 0.194, 0.171, 0.142], maxlen=100)\n",
      "deque([0.116, 0.106, 0.09, 0.1, 0.135, 0.168, 0.203, 0.216, 0.232, 0.232, 0.232, 0.226, 0.216, 0.216, 0.2, 0.171, 0.152, 0.129, 0.113, 0.106, 0.094, 0.1, 0.123, 0.165, 0.206, 0.213, 0.213, 0.226, 0.226, 0.229, 0.232, 0.213, 0.177, 0.139, 0.116, 0.11, 0.119, 0.113, 0.106, 0.1, 0.094, 0.11, 0.116, 0.11, 0.1, 0.1, 0.094, 0.11, 0.11, 0.123, 0.142, 0.165, 0.197, 0.216, 0.213, 0.216, 0.203, 0.194, 0.171, 0.142, 0.129], maxlen=100)\n",
      "deque([0.116, 0.106, 0.09, 0.1, 0.135, 0.168, 0.203, 0.216, 0.232, 0.232, 0.232, 0.226, 0.216, 0.216, 0.2, 0.171, 0.152, 0.129, 0.113, 0.106, 0.094, 0.1, 0.123, 0.165, 0.206, 0.213, 0.213, 0.226, 0.226, 0.229, 0.232, 0.213, 0.177, 0.139, 0.116, 0.11, 0.119, 0.113, 0.106, 0.1, 0.094, 0.11, 0.116, 0.11, 0.1, 0.1, 0.094, 0.11, 0.11, 0.123, 0.142, 0.165, 0.197, 0.216, 0.213, 0.216, 0.203, 0.194, 0.171, 0.142, 0.129, 0.119], maxlen=100)\n",
      "deque([0.116, 0.106, 0.09, 0.1, 0.135, 0.168, 0.203, 0.216, 0.232, 0.232, 0.232, 0.226, 0.216, 0.216, 0.2, 0.171, 0.152, 0.129, 0.113, 0.106, 0.094, 0.1, 0.123, 0.165, 0.206, 0.213, 0.213, 0.226, 0.226, 0.229, 0.232, 0.213, 0.177, 0.139, 0.116, 0.11, 0.119, 0.113, 0.106, 0.1, 0.094, 0.11, 0.116, 0.11, 0.1, 0.1, 0.094, 0.11, 0.11, 0.123, 0.142, 0.165, 0.197, 0.216, 0.213, 0.216, 0.203, 0.194, 0.171, 0.142, 0.129, 0.119, 0.126], maxlen=100)\n",
      "deque([0.116, 0.106, 0.09, 0.1, 0.135, 0.168, 0.203, 0.216, 0.232, 0.232, 0.232, 0.226, 0.216, 0.216, 0.2, 0.171, 0.152, 0.129, 0.113, 0.106, 0.094, 0.1, 0.123, 0.165, 0.206, 0.213, 0.213, 0.226, 0.226, 0.229, 0.232, 0.213, 0.177, 0.139, 0.116, 0.11, 0.119, 0.113, 0.106, 0.1, 0.094, 0.11, 0.116, 0.11, 0.1, 0.1, 0.094, 0.11, 0.11, 0.123, 0.142, 0.165, 0.197, 0.216, 0.213, 0.216, 0.203, 0.194, 0.171, 0.142, 0.129, 0.119, 0.126, 0.113], maxlen=100)\n",
      "deque([0.116, 0.106, 0.09, 0.1, 0.135, 0.168, 0.203, 0.216, 0.232, 0.232, 0.232, 0.226, 0.216, 0.216, 0.2, 0.171, 0.152, 0.129, 0.113, 0.106, 0.094, 0.1, 0.123, 0.165, 0.206, 0.213, 0.213, 0.226, 0.226, 0.229, 0.232, 0.213, 0.177, 0.139, 0.116, 0.11, 0.119, 0.113, 0.106, 0.1, 0.094, 0.11, 0.116, 0.11, 0.1, 0.1, 0.094, 0.11, 0.11, 0.123, 0.142, 0.165, 0.197, 0.216, 0.213, 0.216, 0.203, 0.194, 0.171, 0.142, 0.129, 0.119, 0.126, 0.113, 0.119], maxlen=100)\n",
      "deque([0.116, 0.106, 0.09, 0.1, 0.135, 0.168, 0.203, 0.216, 0.232, 0.232, 0.232, 0.226, 0.216, 0.216, 0.2, 0.171, 0.152, 0.129, 0.113, 0.106, 0.094, 0.1, 0.123, 0.165, 0.206, 0.213, 0.213, 0.226, 0.226, 0.229, 0.232, 0.213, 0.177, 0.139, 0.116, 0.11, 0.119, 0.113, 0.106, 0.1, 0.094, 0.11, 0.116, 0.11, 0.1, 0.1, 0.094, 0.11, 0.11, 0.123, 0.142, 0.165, 0.197, 0.216, 0.213, 0.216, 0.203, 0.194, 0.171, 0.142, 0.129, 0.119, 0.126, 0.113, 0.119, 0.123], maxlen=100)\n",
      "deque([0.116, 0.106, 0.09, 0.1, 0.135, 0.168, 0.203, 0.216, 0.232, 0.232, 0.232, 0.226, 0.216, 0.216, 0.2, 0.171, 0.152, 0.129, 0.113, 0.106, 0.094, 0.1, 0.123, 0.165, 0.206, 0.213, 0.213, 0.226, 0.226, 0.229, 0.232, 0.213, 0.177, 0.139, 0.116, 0.11, 0.119, 0.113, 0.106, 0.1, 0.094, 0.11, 0.116, 0.11, 0.1, 0.1, 0.094, 0.11, 0.11, 0.123, 0.142, 0.165, 0.197, 0.216, 0.213, 0.216, 0.203, 0.194, 0.171, 0.142, 0.129, 0.119, 0.126, 0.113, 0.119, 0.123, 0.123], maxlen=100)\n",
      "deque([0.116, 0.106, 0.09, 0.1, 0.135, 0.168, 0.203, 0.216, 0.232, 0.232, 0.232, 0.226, 0.216, 0.216, 0.2, 0.171, 0.152, 0.129, 0.113, 0.106, 0.094, 0.1, 0.123, 0.165, 0.206, 0.213, 0.213, 0.226, 0.226, 0.229, 0.232, 0.213, 0.177, 0.139, 0.116, 0.11, 0.119, 0.113, 0.106, 0.1, 0.094, 0.11, 0.116, 0.11, 0.1, 0.1, 0.094, 0.11, 0.11, 0.123, 0.142, 0.165, 0.197, 0.216, 0.213, 0.216, 0.203, 0.194, 0.171, 0.142, 0.129, 0.119, 0.126, 0.113, 0.119, 0.123, 0.123, 0.132], maxlen=100)\n",
      "deque([0.116, 0.106, 0.09, 0.1, 0.135, 0.168, 0.203, 0.216, 0.232, 0.232, 0.232, 0.226, 0.216, 0.216, 0.2, 0.171, 0.152, 0.129, 0.113, 0.106, 0.094, 0.1, 0.123, 0.165, 0.206, 0.213, 0.213, 0.226, 0.226, 0.229, 0.232, 0.213, 0.177, 0.139, 0.116, 0.11, 0.119, 0.113, 0.106, 0.1, 0.094, 0.11, 0.116, 0.11, 0.1, 0.1, 0.094, 0.11, 0.11, 0.123, 0.142, 0.165, 0.197, 0.216, 0.213, 0.216, 0.203, 0.194, 0.171, 0.142, 0.129, 0.119, 0.126, 0.113, 0.119, 0.123, 0.123, 0.132, 0.116], maxlen=100)\n",
      "deque([0.116, 0.106, 0.09, 0.1, 0.135, 0.168, 0.203, 0.216, 0.232, 0.232, 0.232, 0.226, 0.216, 0.216, 0.2, 0.171, 0.152, 0.129, 0.113, 0.106, 0.094, 0.1, 0.123, 0.165, 0.206, 0.213, 0.213, 0.226, 0.226, 0.229, 0.232, 0.213, 0.177, 0.139, 0.116, 0.11, 0.119, 0.113, 0.106, 0.1, 0.094, 0.11, 0.116, 0.11, 0.1, 0.1, 0.094, 0.11, 0.11, 0.123, 0.142, 0.165, 0.197, 0.216, 0.213, 0.216, 0.203, 0.194, 0.171, 0.142, 0.129, 0.119, 0.126, 0.113, 0.119, 0.123, 0.123, 0.132, 0.116, 0.106], maxlen=100)\n",
      "deque([0.116, 0.106, 0.09, 0.1, 0.135, 0.168, 0.203, 0.216, 0.232, 0.232, 0.232, 0.226, 0.216, 0.216, 0.2, 0.171, 0.152, 0.129, 0.113, 0.106, 0.094, 0.1, 0.123, 0.165, 0.206, 0.213, 0.213, 0.226, 0.226, 0.229, 0.232, 0.213, 0.177, 0.139, 0.116, 0.11, 0.119, 0.113, 0.106, 0.1, 0.094, 0.11, 0.116, 0.11, 0.1, 0.1, 0.094, 0.11, 0.11, 0.123, 0.142, 0.165, 0.197, 0.216, 0.213, 0.216, 0.203, 0.194, 0.171, 0.142, 0.129, 0.119, 0.126, 0.113, 0.119, 0.123, 0.123, 0.132, 0.116, 0.106, 0.097], maxlen=100)\n",
      "deque([0.116, 0.106, 0.09, 0.1, 0.135, 0.168, 0.203, 0.216, 0.232, 0.232, 0.232, 0.226, 0.216, 0.216, 0.2, 0.171, 0.152, 0.129, 0.113, 0.106, 0.094, 0.1, 0.123, 0.165, 0.206, 0.213, 0.213, 0.226, 0.226, 0.229, 0.232, 0.213, 0.177, 0.139, 0.116, 0.11, 0.119, 0.113, 0.106, 0.1, 0.094, 0.11, 0.116, 0.11, 0.1, 0.1, 0.094, 0.11, 0.11, 0.123, 0.142, 0.165, 0.197, 0.216, 0.213, 0.216, 0.203, 0.194, 0.171, 0.142, 0.129, 0.119, 0.126, 0.113, 0.119, 0.123, 0.123, 0.132, 0.116, 0.106, 0.097, 0.097], maxlen=100)\n",
      "deque([0.116, 0.106, 0.09, 0.1, 0.135, 0.168, 0.203, 0.216, 0.232, 0.232, 0.232, 0.226, 0.216, 0.216, 0.2, 0.171, 0.152, 0.129, 0.113, 0.106, 0.094, 0.1, 0.123, 0.165, 0.206, 0.213, 0.213, 0.226, 0.226, 0.229, 0.232, 0.213, 0.177, 0.139, 0.116, 0.11, 0.119, 0.113, 0.106, 0.1, 0.094, 0.11, 0.116, 0.11, 0.1, 0.1, 0.094, 0.11, 0.11, 0.123, 0.142, 0.165, 0.197, 0.216, 0.213, 0.216, 0.203, 0.194, 0.171, 0.142, 0.129, 0.119, 0.126, 0.113, 0.119, 0.123, 0.123, 0.132, 0.116, 0.106, 0.097, 0.097, 0.103], maxlen=100)\n",
      "deque([0.116, 0.106, 0.09, 0.1, 0.135, 0.168, 0.203, 0.216, 0.232, 0.232, 0.232, 0.226, 0.216, 0.216, 0.2, 0.171, 0.152, 0.129, 0.113, 0.106, 0.094, 0.1, 0.123, 0.165, 0.206, 0.213, 0.213, 0.226, 0.226, 0.229, 0.232, 0.213, 0.177, 0.139, 0.116, 0.11, 0.119, 0.113, 0.106, 0.1, 0.094, 0.11, 0.116, 0.11, 0.1, 0.1, 0.094, 0.11, 0.11, 0.123, 0.142, 0.165, 0.197, 0.216, 0.213, 0.216, 0.203, 0.194, 0.171, 0.142, 0.129, 0.119, 0.126, 0.113, 0.119, 0.123, 0.123, 0.132, 0.116, 0.106, 0.097, 0.097, 0.103, 0.11], maxlen=100)\n",
      "deque([0.116, 0.106, 0.09, 0.1, 0.135, 0.168, 0.203, 0.216, 0.232, 0.232, 0.232, 0.226, 0.216, 0.216, 0.2, 0.171, 0.152, 0.129, 0.113, 0.106, 0.094, 0.1, 0.123, 0.165, 0.206, 0.213, 0.213, 0.226, 0.226, 0.229, 0.232, 0.213, 0.177, 0.139, 0.116, 0.11, 0.119, 0.113, 0.106, 0.1, 0.094, 0.11, 0.116, 0.11, 0.1, 0.1, 0.094, 0.11, 0.11, 0.123, 0.142, 0.165, 0.197, 0.216, 0.213, 0.216, 0.203, 0.194, 0.171, 0.142, 0.129, 0.119, 0.126, 0.113, 0.119, 0.123, 0.123, 0.132, 0.116, 0.106, 0.097, 0.097, 0.103, 0.11, 0.106], maxlen=100)\n",
      "deque([0.116, 0.106, 0.09, 0.1, 0.135, 0.168, 0.203, 0.216, 0.232, 0.232, 0.232, 0.226, 0.216, 0.216, 0.2, 0.171, 0.152, 0.129, 0.113, 0.106, 0.094, 0.1, 0.123, 0.165, 0.206, 0.213, 0.213, 0.226, 0.226, 0.229, 0.232, 0.213, 0.177, 0.139, 0.116, 0.11, 0.119, 0.113, 0.106, 0.1, 0.094, 0.11, 0.116, 0.11, 0.1, 0.1, 0.094, 0.11, 0.11, 0.123, 0.142, 0.165, 0.197, 0.216, 0.213, 0.216, 0.203, 0.194, 0.171, 0.142, 0.129, 0.119, 0.126, 0.113, 0.119, 0.123, 0.123, 0.132, 0.116, 0.106, 0.097, 0.097, 0.103, 0.11, 0.106, 0.11], maxlen=100)\n",
      "deque([0.116, 0.106, 0.09, 0.1, 0.135, 0.168, 0.203, 0.216, 0.232, 0.232, 0.232, 0.226, 0.216, 0.216, 0.2, 0.171, 0.152, 0.129, 0.113, 0.106, 0.094, 0.1, 0.123, 0.165, 0.206, 0.213, 0.213, 0.226, 0.226, 0.229, 0.232, 0.213, 0.177, 0.139, 0.116, 0.11, 0.119, 0.113, 0.106, 0.1, 0.094, 0.11, 0.116, 0.11, 0.1, 0.1, 0.094, 0.11, 0.11, 0.123, 0.142, 0.165, 0.197, 0.216, 0.213, 0.216, 0.203, 0.194, 0.171, 0.142, 0.129, 0.119, 0.126, 0.113, 0.119, 0.123, 0.123, 0.132, 0.116, 0.106, 0.097, 0.097, 0.103, 0.11, 0.106, 0.11, 0.119], maxlen=100)\n",
      "deque([0.116, 0.106, 0.09, 0.1, 0.135, 0.168, 0.203, 0.216, 0.232, 0.232, 0.232, 0.226, 0.216, 0.216, 0.2, 0.171, 0.152, 0.129, 0.113, 0.106, 0.094, 0.1, 0.123, 0.165, 0.206, 0.213, 0.213, 0.226, 0.226, 0.229, 0.232, 0.213, 0.177, 0.139, 0.116, 0.11, 0.119, 0.113, 0.106, 0.1, 0.094, 0.11, 0.116, 0.11, 0.1, 0.1, 0.094, 0.11, 0.11, 0.123, 0.142, 0.165, 0.197, 0.216, 0.213, 0.216, 0.203, 0.194, 0.171, 0.142, 0.129, 0.119, 0.126, 0.113, 0.119, 0.123, 0.123, 0.132, 0.116, 0.106, 0.097, 0.097, 0.103, 0.11, 0.106, 0.11, 0.119, 0.116], maxlen=100)\n",
      "deque([0.116, 0.106, 0.09, 0.1, 0.135, 0.168, 0.203, 0.216, 0.232, 0.232, 0.232, 0.226, 0.216, 0.216, 0.2, 0.171, 0.152, 0.129, 0.113, 0.106, 0.094, 0.1, 0.123, 0.165, 0.206, 0.213, 0.213, 0.226, 0.226, 0.229, 0.232, 0.213, 0.177, 0.139, 0.116, 0.11, 0.119, 0.113, 0.106, 0.1, 0.094, 0.11, 0.116, 0.11, 0.1, 0.1, 0.094, 0.11, 0.11, 0.123, 0.142, 0.165, 0.197, 0.216, 0.213, 0.216, 0.203, 0.194, 0.171, 0.142, 0.129, 0.119, 0.126, 0.113, 0.119, 0.123, 0.123, 0.132, 0.116, 0.106, 0.097, 0.097, 0.103, 0.11, 0.106, 0.11, 0.119, 0.116, 0.106], maxlen=100)\n",
      "deque([0.116, 0.106, 0.09, 0.1, 0.135, 0.168, 0.203, 0.216, 0.232, 0.232, 0.232, 0.226, 0.216, 0.216, 0.2, 0.171, 0.152, 0.129, 0.113, 0.106, 0.094, 0.1, 0.123, 0.165, 0.206, 0.213, 0.213, 0.226, 0.226, 0.229, 0.232, 0.213, 0.177, 0.139, 0.116, 0.11, 0.119, 0.113, 0.106, 0.1, 0.094, 0.11, 0.116, 0.11, 0.1, 0.1, 0.094, 0.11, 0.11, 0.123, 0.142, 0.165, 0.197, 0.216, 0.213, 0.216, 0.203, 0.194, 0.171, 0.142, 0.129, 0.119, 0.126, 0.113, 0.119, 0.123, 0.123, 0.132, 0.116, 0.106, 0.097, 0.097, 0.103, 0.11, 0.106, 0.11, 0.119, 0.116, 0.106, 0.097], maxlen=100)\n",
      "deque([0.116, 0.106, 0.09, 0.1, 0.135, 0.168, 0.203, 0.216, 0.232, 0.232, 0.232, 0.226, 0.216, 0.216, 0.2, 0.171, 0.152, 0.129, 0.113, 0.106, 0.094, 0.1, 0.123, 0.165, 0.206, 0.213, 0.213, 0.226, 0.226, 0.229, 0.232, 0.213, 0.177, 0.139, 0.116, 0.11, 0.119, 0.113, 0.106, 0.1, 0.094, 0.11, 0.116, 0.11, 0.1, 0.1, 0.094, 0.11, 0.11, 0.123, 0.142, 0.165, 0.197, 0.216, 0.213, 0.216, 0.203, 0.194, 0.171, 0.142, 0.129, 0.119, 0.126, 0.113, 0.119, 0.123, 0.123, 0.132, 0.116, 0.106, 0.097, 0.097, 0.103, 0.11, 0.106, 0.11, 0.119, 0.116, 0.106, 0.097, 0.1], maxlen=100)\n",
      "deque([0.116, 0.106, 0.09, 0.1, 0.135, 0.168, 0.203, 0.216, 0.232, 0.232, 0.232, 0.226, 0.216, 0.216, 0.2, 0.171, 0.152, 0.129, 0.113, 0.106, 0.094, 0.1, 0.123, 0.165, 0.206, 0.213, 0.213, 0.226, 0.226, 0.229, 0.232, 0.213, 0.177, 0.139, 0.116, 0.11, 0.119, 0.113, 0.106, 0.1, 0.094, 0.11, 0.116, 0.11, 0.1, 0.1, 0.094, 0.11, 0.11, 0.123, 0.142, 0.165, 0.197, 0.216, 0.213, 0.216, 0.203, 0.194, 0.171, 0.142, 0.129, 0.119, 0.126, 0.113, 0.119, 0.123, 0.123, 0.132, 0.116, 0.106, 0.097, 0.097, 0.103, 0.11, 0.106, 0.11, 0.119, 0.116, 0.106, 0.097, 0.1, 0.113], maxlen=100)\n",
      "deque([0.116, 0.106, 0.09, 0.1, 0.135, 0.168, 0.203, 0.216, 0.232, 0.232, 0.232, 0.226, 0.216, 0.216, 0.2, 0.171, 0.152, 0.129, 0.113, 0.106, 0.094, 0.1, 0.123, 0.165, 0.206, 0.213, 0.213, 0.226, 0.226, 0.229, 0.232, 0.213, 0.177, 0.139, 0.116, 0.11, 0.119, 0.113, 0.106, 0.1, 0.094, 0.11, 0.116, 0.11, 0.1, 0.1, 0.094, 0.11, 0.11, 0.123, 0.142, 0.165, 0.197, 0.216, 0.213, 0.216, 0.203, 0.194, 0.171, 0.142, 0.129, 0.119, 0.126, 0.113, 0.119, 0.123, 0.123, 0.132, 0.116, 0.106, 0.097, 0.097, 0.103, 0.11, 0.106, 0.11, 0.119, 0.116, 0.106, 0.097, 0.1, 0.113, 0.145], maxlen=100)\n",
      "deque([0.116, 0.106, 0.09, 0.1, 0.135, 0.168, 0.203, 0.216, 0.232, 0.232, 0.232, 0.226, 0.216, 0.216, 0.2, 0.171, 0.152, 0.129, 0.113, 0.106, 0.094, 0.1, 0.123, 0.165, 0.206, 0.213, 0.213, 0.226, 0.226, 0.229, 0.232, 0.213, 0.177, 0.139, 0.116, 0.11, 0.119, 0.113, 0.106, 0.1, 0.094, 0.11, 0.116, 0.11, 0.1, 0.1, 0.094, 0.11, 0.11, 0.123, 0.142, 0.165, 0.197, 0.216, 0.213, 0.216, 0.203, 0.194, 0.171, 0.142, 0.129, 0.119, 0.126, 0.113, 0.119, 0.123, 0.123, 0.132, 0.116, 0.106, 0.097, 0.097, 0.103, 0.11, 0.106, 0.11, 0.119, 0.116, 0.106, 0.097, 0.1, 0.113, 0.145, 0.187], maxlen=100)\n",
      "deque([0.116, 0.106, 0.09, 0.1, 0.135, 0.168, 0.203, 0.216, 0.232, 0.232, 0.232, 0.226, 0.216, 0.216, 0.2, 0.171, 0.152, 0.129, 0.113, 0.106, 0.094, 0.1, 0.123, 0.165, 0.206, 0.213, 0.213, 0.226, 0.226, 0.229, 0.232, 0.213, 0.177, 0.139, 0.116, 0.11, 0.119, 0.113, 0.106, 0.1, 0.094, 0.11, 0.116, 0.11, 0.1, 0.1, 0.094, 0.11, 0.11, 0.123, 0.142, 0.165, 0.197, 0.216, 0.213, 0.216, 0.203, 0.194, 0.171, 0.142, 0.129, 0.119, 0.126, 0.113, 0.119, 0.123, 0.123, 0.132, 0.116, 0.106, 0.097, 0.097, 0.103, 0.11, 0.106, 0.11, 0.119, 0.116, 0.106, 0.097, 0.1, 0.113, 0.145, 0.187, 0.216], maxlen=100)\n",
      "deque([0.116, 0.106, 0.09, 0.1, 0.135, 0.168, 0.203, 0.216, 0.232, 0.232, 0.232, 0.226, 0.216, 0.216, 0.2, 0.171, 0.152, 0.129, 0.113, 0.106, 0.094, 0.1, 0.123, 0.165, 0.206, 0.213, 0.213, 0.226, 0.226, 0.229, 0.232, 0.213, 0.177, 0.139, 0.116, 0.11, 0.119, 0.113, 0.106, 0.1, 0.094, 0.11, 0.116, 0.11, 0.1, 0.1, 0.094, 0.11, 0.11, 0.123, 0.142, 0.165, 0.197, 0.216, 0.213, 0.216, 0.203, 0.194, 0.171, 0.142, 0.129, 0.119, 0.126, 0.113, 0.119, 0.123, 0.123, 0.132, 0.116, 0.106, 0.097, 0.097, 0.103, 0.11, 0.106, 0.11, 0.119, 0.116, 0.106, 0.097, 0.1, 0.113, 0.145, 0.187, 0.216, 0.229], maxlen=100)\n",
      "deque([0.116, 0.106, 0.09, 0.1, 0.135, 0.168, 0.203, 0.216, 0.232, 0.232, 0.232, 0.226, 0.216, 0.216, 0.2, 0.171, 0.152, 0.129, 0.113, 0.106, 0.094, 0.1, 0.123, 0.165, 0.206, 0.213, 0.213, 0.226, 0.226, 0.229, 0.232, 0.213, 0.177, 0.139, 0.116, 0.11, 0.119, 0.113, 0.106, 0.1, 0.094, 0.11, 0.116, 0.11, 0.1, 0.1, 0.094, 0.11, 0.11, 0.123, 0.142, 0.165, 0.197, 0.216, 0.213, 0.216, 0.203, 0.194, 0.171, 0.142, 0.129, 0.119, 0.126, 0.113, 0.119, 0.123, 0.123, 0.132, 0.116, 0.106, 0.097, 0.097, 0.103, 0.11, 0.106, 0.11, 0.119, 0.116, 0.106, 0.097, 0.1, 0.113, 0.145, 0.187, 0.216, 0.229, 0.235], maxlen=100)\n",
      "deque([0.116, 0.106, 0.09, 0.1, 0.135, 0.168, 0.203, 0.216, 0.232, 0.232, 0.232, 0.226, 0.216, 0.216, 0.2, 0.171, 0.152, 0.129, 0.113, 0.106, 0.094, 0.1, 0.123, 0.165, 0.206, 0.213, 0.213, 0.226, 0.226, 0.229, 0.232, 0.213, 0.177, 0.139, 0.116, 0.11, 0.119, 0.113, 0.106, 0.1, 0.094, 0.11, 0.116, 0.11, 0.1, 0.1, 0.094, 0.11, 0.11, 0.123, 0.142, 0.165, 0.197, 0.216, 0.213, 0.216, 0.203, 0.194, 0.171, 0.142, 0.129, 0.119, 0.126, 0.113, 0.119, 0.123, 0.123, 0.132, 0.116, 0.106, 0.097, 0.097, 0.103, 0.11, 0.106, 0.11, 0.119, 0.116, 0.106, 0.097, 0.1, 0.113, 0.145, 0.187, 0.216, 0.229, 0.235, 0.239], maxlen=100)\n",
      "deque([0.116, 0.106, 0.09, 0.1, 0.135, 0.168, 0.203, 0.216, 0.232, 0.232, 0.232, 0.226, 0.216, 0.216, 0.2, 0.171, 0.152, 0.129, 0.113, 0.106, 0.094, 0.1, 0.123, 0.165, 0.206, 0.213, 0.213, 0.226, 0.226, 0.229, 0.232, 0.213, 0.177, 0.139, 0.116, 0.11, 0.119, 0.113, 0.106, 0.1, 0.094, 0.11, 0.116, 0.11, 0.1, 0.1, 0.094, 0.11, 0.11, 0.123, 0.142, 0.165, 0.197, 0.216, 0.213, 0.216, 0.203, 0.194, 0.171, 0.142, 0.129, 0.119, 0.126, 0.113, 0.119, 0.123, 0.123, 0.132, 0.116, 0.106, 0.097, 0.097, 0.103, 0.11, 0.106, 0.11, 0.119, 0.116, 0.106, 0.097, 0.1, 0.113, 0.145, 0.187, 0.216, 0.229, 0.235, 0.239, 0.229], maxlen=100)\n",
      "Interrupción del usuario. Cerrando...\n"
     ]
    }
   ],
   "execution_count": 5
  },
  {
   "cell_type": "code",
   "id": "06848ddb",
   "metadata": {
    "ExecuteTime": {
     "end_time": "2025-07-18T16:10:07.908140Z",
     "start_time": "2025-07-18T16:10:07.683348Z"
    }
   },
   "source": [
    "import csv\n",
    "\n",
    "start_time = time.time()\n",
    "\n",
    "# Abrimos el archivo CSV\n",
    "csv_file = open(\"datos_ph_voltaje.csv\", \"w\", newline=\"\")\n",
    "csv_writer = csv.writer(csv_file)\n",
    "csv_writer.writerow([\"Tiempo (s)\", \"Voltaje (V)\", \"pH\"])  # Escribimos encabezados\n",
    "\n",
    "\n",
    "def serial_reader():\n",
    "    \"\"\"Lee líneas del serial, parsea voltaje y pH y guarda en CSV.\"\"\"\n",
    "    ser = serial.Serial(SERIAL_PORT, BAUD_RATE, timeout=1)\n",
    "    while True:\n",
    "        line = ser.readline().decode(errors='ignore').strip()\n",
    "        # Esperamos líneas como: \"Voltaje: 2.345 V    pH: 6.78\"\n",
    "        if not line:\n",
    "            continue\n",
    "        try:\n",
    "            # Limpiar y extraer valores\n",
    "            parts = line.replace('V', '').replace('Voltaje:', '').replace('pH:', '').split()\n",
    "            v = float(parts[1])\n",
    "            p = float(parts[3])\n",
    "        except Exception:\n",
    "            continue\n",
    "        t = time.time() - start_time\n",
    "        times.append(t)\n",
    "        voltajes.append(v)\n",
    "        phs.append(p)\n",
    "\n",
    "        # Guardar en el archivo CSV\n",
    "        csv_writer.writerow([t, v, p])\n",
    "        csv_file.flush()  # Asegura que se escriba inmediatamente\n",
    "\n",
    "        print(f\"Voltaje={v:.3f} V, pH={p:.2f}\")\n",
    "\n",
    "\n",
    "try:\n",
    "    # Inicia el hilo que lee del puerto serial\n",
    "    thread = threading.Thread(target=serial_reader, daemon=True)\n",
    "    thread.start()\n",
    "\n",
    "    # Configuración de la figura de Matplotlib\n",
    "    fig, (ax1, ax2) = plt.subplots(2, 1, figsize=(8, 6), sharex=True)\n",
    "    ax1.set_ylabel(\"Voltaje (V)\")\n",
    "    ax2.set_ylabel(\"pH\")\n",
    "    ax2.set_xlabel(\"Tiempo (s)\")\n",
    "\n",
    "    line1, = ax1.plot([], [], lw=2)\n",
    "    line2, = ax2.plot([], [], lw=2)\n",
    "\n",
    "    def init():\n",
    "        ax1.set_xlim(0, MAX_POINTS * 0.5)\n",
    "        ax1.set_ylim(0, VREF := 3.3)  # Ajusta según tu referencia\n",
    "        ax2.set_ylim(0, 14)           # Rango típico de pH\n",
    "        return line1, line2\n",
    "\n",
    "    def update(frame):\n",
    "        if times:\n",
    "            # Ajusta dinámicamente el eje X\n",
    "            ax1.set_xlim(times[0], times[-1])\n",
    "            ax2.set_xlim(times[0], times[-1])\n",
    "            # Actualiza las curvas\n",
    "            line1.set_data(times, voltajes)\n",
    "            line2.set_data(times, phs)\n",
    "        return line1, line2\n",
    "\n",
    "    ani = animation.FuncAnimation(fig, update, init_func=init, blit=True, interval=200)\n",
    "\n",
    "    plt.tight_layout()\n",
    "    plt.show()\n",
    "\n",
    "    # Mantiene el programa activo mientras el hilo corre\n",
    "    while thread.is_alive():\n",
    "        time.sleep(1)\n",
    "\n",
    "    print(\"Programa finalizado.\")\n",
    "\n",
    "except KeyboardInterrupt:\n",
    "    print(\"Interrupción del usuario. Cerrando...\")\n",
    "    csv_file.close()"
   ],
   "outputs": [
    {
     "name": "stderr",
     "output_type": "stream",
     "text": [
      "C:\\Users\\angel\\AppData\\Local\\Temp\\ipykernel_9500\\1951999470.py:68: UserWarning: frames=None which we can infer the length of, did not pass an explicit *save_count* and passed cache_frame_data=True.  To avoid a possibly unbounded cache, frame data caching has been disabled. To suppress this warning either pass `cache_frame_data=False` or `save_count=MAX_FRAMES`.\n",
      "  ani = animation.FuncAnimation(fig, update, init_func=init, blit=True, interval=200)\n",
      "Exception in thread Thread-6 (serial_reader):\n",
      "Traceback (most recent call last):\n",
      "  File \u001B[35m\"C:\\Users\\angel\\AppData\\Local\\Programs\\Python\\Python313\\Lib\\threading.py\"\u001B[0m, line \u001B[35m1041\u001B[0m, in \u001B[35m_bootstrap_inner\u001B[0m\n",
      "    \u001B[31mself.run\u001B[0m\u001B[1;31m()\u001B[0m\n",
      "    \u001B[31m~~~~~~~~\u001B[0m\u001B[1;31m^^\u001B[0m\n",
      "  File \u001B[35m\"C:\\Users\\angel\\AppData\\Local\\Programs\\Python\\Python313\\Lib\\site-packages\\ipykernel\\ipkernel.py\"\u001B[0m, line \u001B[35m766\u001B[0m, in \u001B[35mrun_closure\u001B[0m\n",
      "    \u001B[31m_threading_Thread_run\u001B[0m\u001B[1;31m(self)\u001B[0m\n",
      "    \u001B[31m~~~~~~~~~~~~~~~~~~~~~\u001B[0m\u001B[1;31m^^^^^^\u001B[0m\n",
      "  File \u001B[35m\"C:\\Users\\angel\\AppData\\Local\\Programs\\Python\\Python313\\Lib\\threading.py\"\u001B[0m, line \u001B[35m992\u001B[0m, in \u001B[35mrun\u001B[0m\n",
      "    \u001B[31mself._target\u001B[0m\u001B[1;31m(*self._args, **self._kwargs)\u001B[0m\n",
      "    \u001B[31m~~~~~~~~~~~~\u001B[0m\u001B[1;31m^^^^^^^^^^^^^^^^^^^^^^^^^^^^^\u001B[0m\n",
      "  File \u001B[35m\"C:\\Users\\angel\\AppData\\Local\\Temp\\ipykernel_9500\\1951999470.py\"\u001B[0m, line \u001B[35m13\u001B[0m, in \u001B[35mserial_reader\u001B[0m\n",
      "    ser = serial.Serial(SERIAL_PORT, BAUD_RATE, timeout=1)\n",
      "  File \u001B[35m\"C:\\Users\\angel\\AppData\\Local\\Programs\\Python\\Python313\\Lib\\site-packages\\serial\\serialwin32.py\"\u001B[0m, line \u001B[35m33\u001B[0m, in \u001B[35m__init__\u001B[0m\n",
      "    \u001B[31msuper(Serial, self).__init__\u001B[0m\u001B[1;31m(*args, **kwargs)\u001B[0m\n",
      "    \u001B[31m~~~~~~~~~~~~~~~~~~~~~~~~~~~~\u001B[0m\u001B[1;31m^^^^^^^^^^^^^^^^^\u001B[0m\n",
      "  File \u001B[35m\"C:\\Users\\angel\\AppData\\Local\\Programs\\Python\\Python313\\Lib\\site-packages\\serial\\serialutil.py\"\u001B[0m, line \u001B[35m244\u001B[0m, in \u001B[35m__init__\u001B[0m\n",
      "    \u001B[31mself.open\u001B[0m\u001B[1;31m()\u001B[0m\n",
      "    \u001B[31m~~~~~~~~~\u001B[0m\u001B[1;31m^^\u001B[0m\n",
      "  File \u001B[35m\"C:\\Users\\angel\\AppData\\Local\\Programs\\Python\\Python313\\Lib\\site-packages\\serial\\serialwin32.py\"\u001B[0m, line \u001B[35m64\u001B[0m, in \u001B[35mopen\u001B[0m\n",
      "    raise SerialException(\"could not open port {!r}: {!r}\".format(self.portstr, ctypes.WinError()))\n",
      "\u001B[1;35mserial.serialutil.SerialException\u001B[0m: \u001B[35mcould not open port 'COM11': PermissionError(13, 'Acceso denegado.', None, 5)\u001B[0m\n"
     ]
    },
    {
     "data": {
      "text/plain": [
       "<Figure size 800x600 with 2 Axes>"
      ],
      "image/png": "[encoded data removed]"
     },
     "metadata": {},
     "output_type": "display_data"
    },
    {
     "name": "stdout",
     "output_type": "stream",
     "text": [
      "Programa finalizado.\n"
     ]
    }
   ],
   "execution_count": 9
  }
 ],
 "metadata": {
  "kernelspec": {
   "display_name": "xiao-env",
   "language": "python",
   "name": "python3"
  },
  "language_info": {
   "codemirror_mode": {
    "name": "ipython",
    "version": 3
   },
   "file_extension": ".py",
   "mimetype": "text/x-python",
   "name": "python",
   "nbconvert_exporter": "python",
   "pygments_lexer": "ipython3",
   "version": "3.12.3"
  }
 },
 "nbformat": 4,
 "nbformat_minor": 5
}
